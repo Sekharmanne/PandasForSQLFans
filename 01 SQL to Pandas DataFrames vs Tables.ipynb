{
 "cells": [
  {
   "cell_type": "markdown",
   "metadata": {},
   "source": [
    "# Pandas DataFrame vs SQL Table"
   ]
  },
  {
   "cell_type": "code",
   "execution_count": null,
   "metadata": {},
   "outputs": [],
   "source": [
    "import pandas as pd\n",
    "import numpy as np"
   ]
  },
  {
   "cell_type": "markdown",
   "metadata": {},
   "source": [
    "A pandas DataFrame is similar to a SQL Table"
   ]
  },
  {
   "cell_type": "code",
   "execution_count": null,
   "metadata": {},
   "outputs": [],
   "source": [
    "column_names = ['first_name',\n",
    "                'last_name',\n",
    "                'team',\n",
    "                'position',\n",
    "                'jersey_number',\n",
    "                'salary',\n",
    "                'birthdate']\n",
    "players  = pd.DataFrame(columns=column_names)\n",
    "players"
   ]
  },
  {
   "cell_type": "markdown",
   "metadata": {},
   "source": [
    "If you create an empty dataframe the default datatype for all columns is object"
   ]
  },
  {
   "cell_type": "code",
   "execution_count": null,
   "metadata": {},
   "outputs": [],
   "source": [
    "players.dtypes"
   ]
  },
  {
   "cell_type": "markdown",
   "metadata": {},
   "source": [
    "You can use the **dtype** parameter to specify a single datatype to use for all columns"
   ]
  },
  {
   "cell_type": "code",
   "execution_count": null,
   "metadata": {},
   "outputs": [],
   "source": [
    "column_names = ['first_name',\n",
    "                'last_name',\n",
    "                'team',\n",
    "                'position',\n",
    "                'jersey_number',\n",
    "                'salary',\n",
    "                'birthdate']\n",
    "players  = pd.DataFrame(columns=column_names, dtype=int)\n",
    "players.dtypes"
   ]
  },
  {
   "cell_type": "markdown",
   "metadata": {},
   "source": [
    "You can modify the datatype of specific columns after the DataFrame is created using \n",
    "* **to_datetime()**\n",
    "* **to_numeric()**"
   ]
  },
  {
   "cell_type": "code",
   "execution_count": null,
   "metadata": {},
   "outputs": [],
   "source": [
    "column_names = ['first_name',\n",
    "                'last_name',\n",
    "                'team',\n",
    "                'position',\n",
    "                'jersey_number',\n",
    "                'salary',\n",
    "                'birthdate']\n",
    "players  = pd.DataFrame(columns=column_names)\n",
    "players['birthdate']= pd.to_datetime(players['birthdate']) \n",
    "players['jersey_number']=pd.to_numeric(players['jersey_number'],downcast='integer')\n",
    "players['salary']=pd.to_numeric(players['salary'],downcast='float')\n",
    "players.dtypes"
   ]
  },
  {
   "cell_type": "markdown",
   "metadata": {},
   "source": [
    "You can specify datatypes for one or more columns using **astype()**"
   ]
  },
  {
   "cell_type": "code",
   "execution_count": null,
   "metadata": {},
   "outputs": [],
   "source": [
    "column_names = ['first_name',\n",
    "                'last_name',\n",
    "                'team',\n",
    "                'position',\n",
    "                'jersey_number',\n",
    "                'salary',\n",
    "                'birthdate']\n",
    "players  = pd.DataFrame(columns=column_names)\n",
    "players = players.astype({'first_name':str,\n",
    "                          'last_name':str,\n",
    "                          'team':str,\n",
    "                          'position':str,\n",
    "                          'jersey_number':int,\n",
    "                          'salary':float,\n",
    "                          'birthdate':np.datetime64})\n",
    "players.dtypes"
   ]
  }
 ],
 "metadata": {
  "kernelspec": {
   "display_name": "Python 3",
   "language": "python",
   "name": "python3"
  },
  "language_info": {
   "codemirror_mode": {
    "name": "ipython",
    "version": 3
   },
   "file_extension": ".py",
   "mimetype": "text/x-python",
   "name": "python",
   "nbconvert_exporter": "python",
   "pygments_lexer": "ipython3",
   "version": "3.6.9"
  }
 },
 "nbformat": 4,
 "nbformat_minor": 2
}
